{
 "cells": [
  {
   "cell_type": "markdown",
   "id": "f9e3d658",
   "metadata": {},
   "source": [
    "# Problem solving part: 02\n",
    "\n",
    "# 6. Data Type Checker:"
   ]
  },
  {
   "cell_type": "code",
   "execution_count": 3,
   "id": "35770853",
   "metadata": {},
   "outputs": [
    {
     "name": "stdout",
     "output_type": "stream",
     "text": [
      "The data type of the variable is: float\n"
     ]
    }
   ],
   "source": [
    "def get_data_type(var):\n",
    "    # Use the type() function to get the data type\n",
    "    data_type = type(var).__name__\n",
    "    return data_type\n",
    "\n",
    "input_var = 22.2\n",
    "result = get_data_type(input_var)# i used formating \n",
    "print(f\"The data type of the variable is: {result}\")"
   ]
  },
  {
   "cell_type": "markdown",
   "id": "0e1a8094",
   "metadata": {},
   "source": [
    "# 7. String Palindrome:"
   ]
  },
  {
   "cell_type": "code",
   "execution_count": null,
   "id": "ebea287b",
   "metadata": {},
   "outputs": [],
   "source": [
    "# Write a program to check whether a string is palindrome or not in python\n",
    "input_string = 'konok'\n",
    "a= input_string[::-1]\n",
    "\n",
    "if input_string == rev:\n",
    "    print(a + \" is Palindrome\")\n",
    "else:\n",
    "    print(a + \" is not Palindrome\")"
   ]
  },
  {
   "cell_type": "markdown",
   "id": "06003cd1",
   "metadata": {},
   "source": [
    "# 8. String Reversal with Slicing: "
   ]
  },
  {
   "cell_type": "code",
   "execution_count": 5,
   "id": "9c97279d",
   "metadata": {},
   "outputs": [
    {
     "name": "stdout",
     "output_type": "stream",
     "text": [
      " runimoM dM si eman yM \n"
     ]
    }
   ],
   "source": [
    "def my_function(x):\n",
    "  return x[::-1]\n",
    "\n",
    "mytxt = my_function(\" My name is Md Mominur \")\n",
    "\n",
    "print(mytxt)"
   ]
  },
  {
   "cell_type": "markdown",
   "id": "c6d3df25",
   "metadata": {},
   "source": [
    "# 9. String Concatenation:"
   ]
  },
  {
   "cell_type": "code",
   "execution_count": null,
   "id": "5b0bb26a",
   "metadata": {},
   "outputs": [],
   "source": [
    "def concatenate_strings(str1, str2):\n",
    "    # Use the join method to concatenate strings\n",
    "    concatenated_string = ''.join([str1, str2])\n",
    "    return concatenated_string\n",
    "\n",
    "string1 = input(\"Enter the first string: \")\n",
    "string2 = input(\"Enter the second string: \")\n",
    "\n",
    "result = concatenate_strings(string1, string2)\n",
    "print(\"Concatenated string is :\", result"
   ]
  },
  {
   "cell_type": "markdown",
   "id": "e007839f",
   "metadata": {},
   "source": [
    "# 10. Typecasting Challenge: "
   ]
  },
  {
   "cell_type": "code",
   "execution_count": 7,
   "id": "3dfe5bb1",
   "metadata": {},
   "outputs": [
    {
     "name": "stdout",
     "output_type": "stream",
     "text": [
      "Result of operation 1: 125\n",
      "Result of operation 2: 114.5\n",
      "Final result: 114.5 is the answer\n"
     ]
    }
   ],
   "source": [
    "# 3 variables is here\n",
    "a = '100'\n",
    "b = 25\n",
    "c = '10.5'\n",
    "\n",
    "# Convert a to an integer and add it to b\n",
    "result1 = int(a) + b\n",
    "\n",
    "# Convert c to a float and subtract it from the result of the first operation\n",
    "result2 = result1 - float(c)\n",
    "\n",
    "# Convert the final result to a string and concatenate it with \" is the answer\"\n",
    "final_result = str(result2) + \" is the answer\"\n",
    "\n",
    "# Resul is here\n",
    "print(\"Result of operation 1:\", result1)\n",
    "print(\"Result of operation 2:\", result2)\n",
    "print(\"Final result:\", final_result)\n"
   ]
  },
  {
   "cell_type": "markdown",
   "id": "3c844639",
   "metadata": {},
   "source": [
    "# 11. Positive, Negative, or Zero:"
   ]
  },
  {
   "cell_type": "code",
   "execution_count": null,
   "id": "6ebafb29",
   "metadata": {},
   "outputs": [],
   "source": [
    "number = int(input(\"Enter a number: \"))\n",
    "# Check if the number is positive, negative, or zero\n",
    "if number > 0:\n",
    "    print(\"The number is positive.\")\n",
    "elif number < 0:\n",
    "    print(\"The number is negative.\")\n",
    "else:\n",
    "    print(\"The number is zero.\")"
   ]
  },
  {
   "cell_type": "markdown",
   "id": "bdf17910",
   "metadata": {},
   "source": [
    "# 12. Largest of Three Numbers:"
   ]
  },
  {
   "cell_type": "code",
   "execution_count": null,
   "id": "70841590",
   "metadata": {},
   "outputs": [],
   "source": [
    "# Get user input for three numbers\n",
    "num1 = int(input(\"Enter the first number: \"))\n",
    "num2 = int(input(\"Enter the second number: \"))\n",
    "num3 = int(input(\"Enter the third number: \"))\n",
    "if num1>num2 and num1>num3:\n",
    "    print(\"largest number is :\",num1)\n",
    "elif num2>num3 and num2>num1:\n",
    "    print(\"largest number is :\",num2)\n",
    "else:\n",
    "    print(\"largest number is : \",num3)"
   ]
  },
  {
   "cell_type": "markdown",
   "id": "0d7ecf65",
   "metadata": {},
   "source": [
    "# 13. Leap Year Checker:"
   ]
  },
  {
   "cell_type": "code",
   "execution_count": null,
   "id": "c2468cdb",
   "metadata": {},
   "outputs": [],
   "source": [
    "# Get user input for the year\n",
    "year = int(input(\"Enter a year: \"))\n",
    "\n",
    "# Check it for leap year\n",
    "if (year % 4 == 0 and year % 100 != 0) or (year % 400 == 0):\n",
    "    print(f\"{year} is a leap year.\")# i used formating string \n",
    "else:\n",
    "    print(f\"{year} is not a leap year.\")"
   ]
  },
  {
   "cell_type": "markdown",
   "id": "63e18492",
   "metadata": {},
   "source": [
    "# 14. Grades Classification:"
   ]
  },
  {
   "cell_type": "code",
   "execution_count": null,
   "id": "fcfd30b4",
   "metadata": {},
   "outputs": [],
   "source": [
    "Number= float(input(\"Enter the student's Number: \"))\n",
    "\n",
    "# Determine the corresponding grade\n",
    "if Number >= 90:\n",
    "    grade = 'A+'\n",
    "elif 80 <= Number < 90:\n",
    "    grade = 'A'\n",
    "elif 70 <= Number < 80:\n",
    "    grade = 'B'\n",
    "elif 60 <= Number < 70:\n",
    "    grade = 'C'\n",
    "else:\n",
    "    grade = 'Fail'\n",
    "\n",
    "# Print the result\n",
    "print(f\"The student's grade is: {grade}\")\n"
   ]
  },
  {
   "cell_type": "markdown",
   "id": "085f9f11",
   "metadata": {},
   "source": [
    "# 15. Vowel or Consonant:"
   ]
  },
  {
   "cell_type": "code",
   "execution_count": null,
   "id": "503b5842",
   "metadata": {},
   "outputs": [],
   "source": [
    "ch=input('Enter the single alphabet:')\n",
    "if ch in ('a','e','i','o','u','A','E','I','O','U'):\n",
    "    print(ch,\"is vowel\")\n",
    "else:\n",
    "    print(ch,\"is consonant\")"
   ]
  },
  {
   "cell_type": "code",
   "execution_count": null,
   "id": "f0ee2de8",
   "metadata": {},
   "outputs": [],
   "source": []
  }
 ],
 "metadata": {
  "kernelspec": {
   "display_name": "Python 3 (ipykernel)",
   "language": "python",
   "name": "python3"
  },
  "language_info": {
   "codemirror_mode": {
    "name": "ipython",
    "version": 3
   },
   "file_extension": ".py",
   "mimetype": "text/x-python",
   "name": "python",
   "nbconvert_exporter": "python",
   "pygments_lexer": "ipython3",
   "version": "3.11.5"
  }
 },
 "nbformat": 4,
 "nbformat_minor": 5
}
